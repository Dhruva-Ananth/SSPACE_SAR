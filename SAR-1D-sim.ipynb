{
 "cells": [
  {
   "cell_type": "code",
   "execution_count": 168,
   "id": "ec9e9335",
   "metadata": {},
   "outputs": [],
   "source": [
    "import numpy as np\n",
    "from ipywidgets import *\n",
    "import matplotlib\n",
    "%matplotlib notebook\n",
    "import matplotlib.pyplot as plt"
   ]
  },
  {
   "cell_type": "code",
   "execution_count": 169,
   "id": "fc8841d6",
   "metadata": {},
   "outputs": [],
   "source": [
    "# AMBIGUITY\n",
    "def range_amb(Rn, Rf, pri):\n",
    "    return (2*Rf/c <= (2*Rn/c) + pri)\n",
    "\n",
    "def azi_amb(pri, swath, theta, vs, antenna_azi):\n",
    "    return (pri >= 2*swath*np.sin(theta)/c)&(pri<=antenna_azi/(2*vs))\n",
    "\n",
    "def antenna_H(R, prf, lamda, Rn, theta):\n",
    "    return (R >= (2*lamda*prf*Rn*np.tan(theta)/c))\n",
    "\n",
    "def prf_select(j,Rn, Rf, tp, tpt, R, prf):\n",
    "    return (prf >= (j/((2*Rn/c) - tp - tpt - (2*R/c))))&(prf >= ((j+1)/((2*Rf/c) - tp - tpt - (2*R/c))))\n"
   ]
  },
  {
   "cell_type": "code",
   "execution_count": 170,
   "id": "8b7a6daa",
   "metadata": {},
   "outputs": [],
   "source": [
    "def ffy(s):\n",
    "    return np.fft.fftshift(np.fft.fft(np.fft.fftshift(s)))\n",
    "def iffy(fs):\n",
    "    return np.fft.ifftshift(np.fft.ifft(np.fft.ifftshift(fs)))\n"
   ]
  },
  {
   "cell_type": "code",
   "execution_count": 171,
   "id": "379e43a4",
   "metadata": {},
   "outputs": [],
   "source": [
    "def db2mag(x):\n",
    "    return np.power(10,(x/10))\n",
    "def mag2db(y):\n",
    "    return 10*np.log10(y)"
   ]
  },
  {
   "cell_type": "code",
   "execution_count": 172,
   "id": "5088a2c7",
   "metadata": {},
   "outputs": [],
   "source": [
    "# orital parameters\n",
    "h = 400e+03 # obital height (m)\n",
    "G = 6.6743e-11 # Gravitational Constant (SI)\n",
    "Re = 6.3781e+06 # radius of earth (m)\n",
    "Me = 5.97219e+24 # mass of the earth (kgs)"
   ]
  },
  {
   "cell_type": "code",
   "execution_count": 173,
   "id": "d60617d0",
   "metadata": {},
   "outputs": [
    {
     "name": "stdout",
     "output_type": "stream",
     "text": [
      "7.669 km/s\n"
     ]
    }
   ],
   "source": [
    "vs = np.sqrt(G*Me/(h+Re)) # orbital speed of Satellite @ h\n",
    "print(\"%0.3f\" % (vs/1000), \"km/s\")"
   ]
  },
  {
   "cell_type": "code",
   "execution_count": 174,
   "id": "09eb3a04",
   "metadata": {},
   "outputs": [],
   "source": [
    "c = 2.99e8 # speed of light (m/s)"
   ]
  },
  {
   "cell_type": "code",
   "execution_count": 175,
   "id": "49d85d25",
   "metadata": {},
   "outputs": [],
   "source": [
    "no_of_pulse = 32\n",
    "fc = 9e9 # carier frequency (Hz)\n",
    "duty_cycle = 0.30 # duty cycle of transmitted signal\n",
    "pri = 700e-6 # pulse repetition interval(s)\n",
    "prf = 1/pri # pulse repetition frequency (Hz)\n",
    "bw = 200e6 # baseband bandwidth (hz)\n",
    "wo = 2*np.pi*bw # radian/s baseband\n",
    "# snr = 16 # recived signal to noise ratio (db)\n",
    "t_start = 0 # start time of simulation\n",
    "t_stop = no_of_pulse*pri # end time of simulation\n",
    "k = wo/c # wavenumber (for both path)\n",
    "lamda = 2*np.pi/k # wavelength\n",
    "pw = duty_cycle*pri # pulse width (s)\n",
    "wc = np.pi*2*fc # radian/s carrier \n",
    "tp = pw # pulse time\n",
    "tpt = 0.01*pw # protection time "
   ]
  },
  {
   "cell_type": "code",
   "execution_count": 176,
   "id": "53f4d179",
   "metadata": {},
   "outputs": [
    {
     "name": "stdout",
     "output_type": "stream",
     "text": [
      "5983986006837.701 55292030703.180\n"
     ]
    }
   ],
   "source": [
    "alpha = wo/pw # chirp rate\n",
    "beta = wc-alpha*pw # modified chirp carrier\n",
    "print(\"%0.3f\"% alpha, \"%0.3f\"% beta)"
   ]
  },
  {
   "cell_type": "code",
   "execution_count": 177,
   "id": "b94615db",
   "metadata": {},
   "outputs": [
    {
     "name": "stdout",
     "output_type": "stream",
     "text": [
      "421.987 km\n"
     ]
    }
   ],
   "source": [
    "look_angle = 18*np.pi/180 # look angle (rad)\n",
    "R = (h+Re)*np.cos(look_angle) - np.sqrt(((h+Re)*np.cos(look_angle))**2 - (2*h*Re) - h**2) # target range\n",
    "print(\"%0.3f\"% (R/1000), \"km\")"
   ]
  },
  {
   "cell_type": "code",
   "execution_count": 178,
   "id": "248d21d6",
   "metadata": {},
   "outputs": [
    {
     "name": "stdout",
     "output_type": "stream",
     "text": [
      "Xc =  130.408 km\n"
     ]
    }
   ],
   "source": [
    "Xc = np.sqrt((h**2) + (R**2) - (2*R*h*np.cos(look_angle))) # centre of the range\n",
    "print(\"Xc = \",\"%0.3f\"% (Xc/1000), \"km\")"
   ]
  },
  {
   "cell_type": "code",
   "execution_count": 179,
   "id": "8c1fd1ac",
   "metadata": {},
   "outputs": [
    {
     "name": "stdout",
     "output_type": "stream",
     "text": [
      "19.172 degree\n"
     ]
    }
   ],
   "source": [
    "antenna_azi = 12 # antenna length in azimuth direction (m)\n",
    "antenna_range = 4 # antenna length in range direction (m)\n",
    "\n",
    "theta = look_angle + np.arcsin((R/Re)*np.sin(look_angle)) # incident angle (angle between a beam and the \n",
    "print(\"%0.3f\"% (theta*180/np.pi), \"degree\") # perpendicular through earth center i.e. perpendicular to surface)\n",
    "\n",
    "\n",
    "azi_res = antenna_azi/2 # azimuth resolution (m)\n",
    "thetaR = lamda/antenna_range # angular range 3dB beamwidth of antenna (rad)\n",
    "thetaA = lamda/antenna_azi # angular azimuth 3dB beamwidth of antenna (rad)"
   ]
  },
  {
   "cell_type": "code",
   "execution_count": 180,
   "id": "08676d49",
   "metadata": {},
   "outputs": [
    {
     "name": "stdout",
     "output_type": "stream",
     "text": [
      "1.25e-09 0.37375\n"
     ]
    }
   ],
   "source": [
    "delta_x = c/(4*bw) # range resolution\n",
    "delta_t = np.pi/(2*alpha*pw) # Time domain sampling sepration\n",
    "print(delta_t, delta_x)"
   ]
  },
  {
   "cell_type": "code",
   "execution_count": 181,
   "id": "321e9d39",
   "metadata": {},
   "outputs": [
    {
     "name": "stdout",
     "output_type": "stream",
     "text": [
      "Ts = 0.000689\n",
      "Tf = 0.001266\n",
      "Tx = 0.000367\n",
      "swath =  54.835103594699 km\n",
      "Xo =  27.4175517973495 km\n"
     ]
    }
   ],
   "source": [
    "swath = thetaR*R*np.tan(theta)\n",
    "Xo = swath/2\n",
    "Rn = Xc-Xo # near target\n",
    "Rf = Xc+Xo # far target\n",
    "\n",
    "Ts = 2*Rn/c # start time of recieving window\n",
    "Tf = 2*Rf/c + tp # end time of recieving window\n",
    "Tx = 4*Xo/c # Range swath echo time \n",
    "print(\"Ts = %.6f\" %Ts)\n",
    "print(\"Tf = %.6f\" %Tf)\n",
    "print(\"Tx = %.6f\" %Tx)\n",
    "\n",
    "print(\"swath = \", swath/1000, \"km\")\n",
    "print(\"Xo = \", Xo/1000,\"km\")"
   ]
  },
  {
   "cell_type": "code",
   "execution_count": 182,
   "id": "99c28145",
   "metadata": {},
   "outputs": [
    {
     "name": "stdout",
     "output_type": "stream",
     "text": [
      "1.495\n",
      "range resolution =  2.276 m\n",
      "ground range resolution =  6.931 m\n"
     ]
    }
   ],
   "source": [
    "range_res = c/(2*bw*np.sin(theta)) # improved range resolution (m)\n",
    "gnd_range_res = range_res/np.sin(theta) # ground range resolution (m)\n",
    "Ls = thetaA*(Xc-Xo) # synthetic aperture length (m)\n",
    "ts = Ls/c # synthetic aperture time (s)\n",
    "fd = 2*vs**2/(lamda*(Xc-Xo)) # doppler frequency rate (Hz)\n",
    "Ba = ts*fd # azimuth bandwidth\n",
    "antenna_area = antenna_azi*antenna_range # antenna area (m^2)\n",
    "\n",
    "print(lamda)\n",
    "print(\"range resolution = \", \"%0.3f\"% range_res, \"m\")\n",
    "print(\"ground range resolution = \", \"%0.3f\"% gnd_range_res, \"m\")"
   ]
  },
  {
   "cell_type": "code",
   "execution_count": 183,
   "id": "abec90c6",
   "metadata": {},
   "outputs": [
    {
     "name": "stdout",
     "output_type": "stream",
     "text": [
      "15.052 m^2\n",
      "41.39879086441026 26.015161843966325 -26.015161843966325\n"
     ]
    }
   ],
   "source": [
    "k = 4 # k is greater than equal to 4 for the range and azimuth ambiguity satisfaction\n",
    "kb = 1.38e-23 # boltzmann constant\n",
    "antenna_area_min=k*vs*R*np.tan(theta)/c\n",
    "print(\"%0.3f\"% antenna_area_min, \"m^2\")\n",
    "# print(thetaR, thetaA, swath/1000)\n",
    "\n",
    "# assumption\n",
    "Peak_Power = 600 # watt\n",
    "avg_power = 2*alpha*Peak_Power\n",
    "noise_bw = 1/(2*alpha*pw)\n",
    "norm_bsc = -20 # normalized backscattering constant\n",
    "noise_temp = 290 # in kelvin\n",
    "antenna_gain = 33 # antenna gain (db)\n",
    "systemNoiseFigure = 4 # system noise figure (db)\n",
    "randLoss = 1 # random loss (db)\n",
    "TargetProccLoss = 4 # random processing Losses\n",
    "clutterProccLoss = 1 # Clutter Proccessing Losses (db)\n",
    "sys_loss = systemNoiseFigure + randLoss + TargetProccLoss + clutterProccLoss\n",
    "noise_factor = -20 # noise factor (db)\n",
    "\n",
    "# Noise and SNR\n",
    "noise_power = mag2db(kb) + noise_factor + noise_temp + noise_bw # noise_bw is noise equivalent bandwidth in Hz\n",
    "snr = (mag2db(avg_power) + 2*antenna_gain + 3*mag2db(lamda) + norm_bsc\n",
    "       + mag2db(gnd_range_res) - mag2db(2*((4*np.pi*R)**3)*vs) + mag2db(1.38e-23) + noise_factor + noise_temp + sys_loss)\n",
    "\n",
    "nesz = -1*snr\n",
    "print(noise_power, snr, nesz)\n",
    "                                                                 "
   ]
  },
  {
   "cell_type": "code",
   "execution_count": 184,
   "id": "4ce24a79",
   "metadata": {},
   "outputs": [
    {
     "name": "stdout",
     "output_type": "stream",
     "text": [
      "prf assumption satisfied\n",
      "True\n",
      "True\n",
      "True\n"
     ]
    }
   ],
   "source": [
    "# ambiguity checks \n",
    "for j in np.arange(1,no_of_pulse+1,1):\n",
    "    if prf_select(j,Rn, Rf, pw, tpt, R, prf) == False:\n",
    "        print(\"prf Assumption not satisfied\")\n",
    "        break\n",
    "if j == no_of_pulse:\n",
    "    print(\"prf assumption satisfied\")\n",
    "print(range_amb(Rn, Rf, pri))\n",
    "print(azi_amb(pri, swath, theta, vs, antenna_azi))\n",
    "print(antenna_H(R, prf, lamda, Rn, theta))"
   ]
  }
 ],
 "metadata": {
  "kernelspec": {
   "display_name": "Python 3 (ipykernel)",
   "language": "python",
   "name": "python3"
  },
  "language_info": {
   "codemirror_mode": {
    "name": "ipython",
    "version": 3
   },
   "file_extension": ".py",
   "mimetype": "text/x-python",
   "name": "python",
   "nbconvert_exporter": "python",
   "pygments_lexer": "ipython3",
   "version": "3.9.7"
  }
 },
 "nbformat": 4,
 "nbformat_minor": 5
}
