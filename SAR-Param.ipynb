{
 "cells": [
  {
   "cell_type": "code",
   "execution_count": 146,
   "id": "90080f17",
   "metadata": {},
   "outputs": [],
   "source": [
    "import numpy as np\n",
    "# from ipywidgets import *\n",
    "# import matplotlib\n",
    "# %matplotlib notebook\n",
    "import matplotlib.pyplot as plt"
   ]
  },
  {
   "cell_type": "code",
   "execution_count": 147,
   "id": "7ae32a56",
   "metadata": {},
   "outputs": [],
   "source": [
    "# AMBIGUITY\n",
    "def range_amb(Rn, Rf, pri):\n",
    "    return (2*Rf/c <= (2*Rn/c) + pri)\n",
    "\n",
    "def azi_amb(pri, swath, theta, vs, antenna_azi):\n",
    "    return (pri >= 2*swath*np.sin(theta)/c)&(pri<=antenna_azi/(2*vs))\n",
    "#  Avoiding Nadir Echo\n",
    "def antenna_H(R, prf, lamda, Rn, theta):\n",
    "    return (R >= (2*lamda*prf*Rn*np.tan(theta)/c))\n",
    "\n",
    "def prf_select(j,Rn, Rf, tp, tpt, R, prf):\n",
    "    return (prf >= (j/((2*Rn/c) - tp - tpt - (2*R/c))))&(prf >= ((j+1)/((2*Rf/c) - tp - tpt - (2*R/c))))\n"
   ]
  },
  {
   "cell_type": "code",
   "execution_count": 148,
   "id": "5c5f2dad",
   "metadata": {},
   "outputs": [],
   "source": [
    "def db2mag(x):\n",
    "    return np.power(10,(x/10))\n",
    "def mag2db(y):\n",
    "    return 10*np.log10(y)"
   ]
  },
  {
   "cell_type": "code",
   "execution_count": 149,
   "id": "8195a356",
   "metadata": {},
   "outputs": [],
   "source": [
    "# orital parameters\n",
    "h = 400e+03 # obital height (m)\n",
    "G = 6.6743e-11 # Gravitational Constant (SI)\n",
    "Re = 6.3781e+06 # radius of earth (m)\n",
    "Me = 5.97219e+24 # mass of the earth (kgs)"
   ]
  },
  {
   "cell_type": "code",
   "execution_count": 150,
   "id": "a237fbd4",
   "metadata": {},
   "outputs": [
    {
     "name": "stdout",
     "output_type": "stream",
     "text": [
      "velocity of the satellite  = 7.669 km/s\n"
     ]
    }
   ],
   "source": [
    "vs = np.sqrt(G*Me/(h+Re)) # orbital speed of Satellite @ h\n",
    "print(\"velocity of the satellite  = %0.3f\" % (vs/1000), \"km/s\")"
   ]
  },
  {
   "cell_type": "code",
   "execution_count": 151,
   "id": "4e66d8bc",
   "metadata": {},
   "outputs": [],
   "source": [
    "# Constants\n",
    "c = 2.99e8 # speed of light (m/s)\n",
    "kb = 1.38e-23 # boltzmann constant"
   ]
  },
  {
   "cell_type": "code",
   "execution_count": 152,
   "id": "edddae88",
   "metadata": {},
   "outputs": [],
   "source": [
    "fc = 5.5e9 # carier frequency (Hz)\n",
    "bw = 200e6 # baseband bandwidth (hz)\n",
    "wo = 2*np.pi*bw # radian/s baseband\n",
    "# snr = 16 # recived signal to noise ratio (db)\n",
    "k = wo/c # wavenumber (for both path)\n",
    "lamda = 2*np.pi/k # wavelength\n",
    "wc = np.pi*2*fc # radian/s carrier \n",
    "swath = 40e03 "
   ]
  },
  {
   "cell_type": "code",
   "execution_count": 153,
   "id": "24e4ad6d",
   "metadata": {},
   "outputs": [
    {
     "name": "stdout",
     "output_type": "stream",
     "text": [
      "Total time to cover earth scan = 20.000 days\n"
     ]
    }
   ],
   "source": [
    "Se = 510.1e06 # million sq km\n",
    "t_1s_coverage = swath*vs/1e6 # 1 sec coverage sq km\n",
    "t_coverage = Se/(t_1s_coverage*60*60*24)\n",
    "print(\"Total time to cover earth scan = %0.3f\" %np.ceil(t_coverage), \"days\")"
   ]
  },
  {
   "cell_type": "code",
   "execution_count": 154,
   "id": "598ed994",
   "metadata": {},
   "outputs": [],
   "source": [
    "gr_range_res = 10 # Ground Range resolution (m)\n",
    "azi_res = 5 # Cross Range Resolution (m)"
   ]
  },
  {
   "cell_type": "code",
   "execution_count": 155,
   "id": "a2a7dd0f",
   "metadata": {},
   "outputs": [
    {
     "name": "stdout",
     "output_type": "stream",
     "text": [
      "Depression angle of satellite  = 4.287 Degree\n",
      "Lookangle of satellite  = 4.033 Degree\n"
     ]
    }
   ],
   "source": [
    "range_res = c/(2*bw) # range resolution\n",
    "theta = np.arcsin(c/(2*bw*gr_range_res))\n",
    "lookangle = np.arcsin((Re/(Re+h))*np.sin(theta))\n",
    "print(\"Depression angle of satellite  = %0.3f\" % (theta*180/np.pi), \"Degree\")\n",
    "print(\"Lookangle of satellite  = %0.3f\" % (lookangle*180/np.pi), \"Degree\")"
   ]
  },
  {
   "cell_type": "code",
   "execution_count": 156,
   "id": "359c20c7",
   "metadata": {},
   "outputs": [
    {
     "name": "stdout",
     "output_type": "stream",
     "text": [
      "Target slant Range = 401.056 Km\n"
     ]
    }
   ],
   "source": [
    "R = np.sin(theta-lookangle)*Re/np.sin(lookangle) # target slant range\n",
    "print(\"Target slant Range = %0.3f\" %(R/1000), \"Km\")"
   ]
  },
  {
   "cell_type": "code",
   "execution_count": 157,
   "id": "3dea4ce4",
   "metadata": {},
   "outputs": [],
   "source": [
    "thetaR = swath/(R*np.tan(theta)) # angular range 3dB beamwidth of antenna (rad)"
   ]
  },
  {
   "cell_type": "code",
   "execution_count": 158,
   "id": "a471db01",
   "metadata": {},
   "outputs": [
    {
     "name": "stdout",
     "output_type": "stream",
     "text": [
      "angular range 3dB of Antenna  = 76.234 Degree\n",
      "angular azimuth 3dB of Antenna  = 8.566 Degree\n"
     ]
    }
   ],
   "source": [
    "La = azi_res*2 # azimuth antenna length (m)\n",
    "Lr = lamda/thetaR # Range antenna length (m)\n",
    "thetaA = lamda/La # angular azimuth 3dB beamwidth of antenna (rad)\n",
    "print(\"angular range 3dB of Antenna  = %0.3f\" % (thetaR*180/np.pi), \"Degree\")\n",
    "print(\"angular azimuth 3dB of Antenna  = %0.3f\" % (thetaA*180/np.pi), \"Degree\")"
   ]
  },
  {
   "cell_type": "code",
   "execution_count": 159,
   "id": "a4c0cd19",
   "metadata": {},
   "outputs": [
    {
     "name": "stdout",
     "output_type": "stream",
     "text": [
      "Range Length Antenna  = 1.124 m\n",
      "Azimuth Length Antenna  = 10.000 m\n",
      "Area Antenna  = 11.236 sq. m\n"
     ]
    }
   ],
   "source": [
    "print(\"Range Length Antenna  = %0.3f\" % Lr, \"m\")\n",
    "print(\"Azimuth Length Antenna  = %0.3f\" % La, \"m\")\n",
    "print(\"Area Antenna  = %0.3f\" % (La*Lr), \"sq. m\")"
   ]
  },
  {
   "cell_type": "code",
   "execution_count": 160,
   "id": "8c428802",
   "metadata": {},
   "outputs": [],
   "source": [
    "# gnd_range_res = range_res/np.sin(theta) # ground range resolution (m)\n",
    "# print(\"Ground Range Resolution = %0.3f\"% gnd_range_res, \"m\")"
   ]
  },
  {
   "cell_type": "code",
   "execution_count": 161,
   "id": "2452787e",
   "metadata": {},
   "outputs": [
    {
     "name": "stdout",
     "output_type": "stream",
     "text": [
      "Half swath length  = 20.000 km\n",
      "Center of target range  = 28.210 km\n"
     ]
    }
   ],
   "source": [
    "Xo = swath/2\n",
    "Xc = np.sqrt((h**2) + (R**2) - (2*R*h*np.cos(lookangle))) # centre of the range\n",
    "print(\"Half swath length  = %0.3f\" %(Xo/1000), \"km\")\n",
    "print(\"Center of target range  = %0.3f\" %(Xc/1000), \"km\")"
   ]
  },
  {
   "cell_type": "code",
   "execution_count": 162,
   "id": "e2a9c4a9",
   "metadata": {},
   "outputs": [
    {
     "name": "stdout",
     "output_type": "stream",
     "text": [
      "Near Range = 8.210 km\n",
      "Far Range = 48.210 km\n"
     ]
    }
   ],
   "source": [
    "Rn = Xc-Xo # near target\n",
    "Rf = Xc+Xo # far target\n",
    "\n",
    "print(\"Near Range = %0.3f\" %(Rn/1000), \"km\")\n",
    "print(\"Far Range = %0.3f\" %(Rf/1000),\"km\")"
   ]
  },
  {
   "cell_type": "code",
   "execution_count": 163,
   "id": "42d61e52",
   "metadata": {},
   "outputs": [
    {
     "name": "stdout",
     "output_type": "stream",
     "text": [
      "synthetic aperture length = 1227.368 m\n",
      "synthetic aperture time = 0.000 s\n",
      "doppler frequency rate = 9582.668 Hz\n",
      "azimuth bandwidth = 0.039 rad\n"
     ]
    }
   ],
   "source": [
    "Ls = thetaA*(Xc-Xo) # synthetic aperture length (m)\n",
    "ts = Ls/c # synthetic aperture time (s)\n",
    "fd = 2*vs**2/(lamda*(Xc-Xo)) # doppler frequency rate (Hz)\n",
    "Ba = ts*fd # azimuth bandwidth\n",
    "print(\"synthetic aperture length = %0.3f\"% Ls, \"m\")\n",
    "print(\"synthetic aperture time = %0.3f\"% ts,\"s\")\n",
    "print(\"doppler frequency rate = %0.3f\"% fd, \"Hz\")\n",
    "print(\"azimuth bandwidth = %0.3f\"% Ba,\"rad\")"
   ]
  },
  {
   "cell_type": "code",
   "execution_count": 164,
   "id": "79e204fc",
   "metadata": {},
   "outputs": [
    {
     "name": "stdout",
     "output_type": "stream",
     "text": [
      "Minimum Area of antenna 3.084 m^2\n"
     ]
    }
   ],
   "source": [
    "k = 4 # k is greater than equal to 4 for the range and azimuth ambiguity satisfaction\n",
    "antenna_area_min=k*vs*R*np.tan(theta)/c\n",
    "print(\"Minimum Area of antenna %0.3f\"% antenna_area_min, \"m^2\")"
   ]
  },
  {
   "cell_type": "code",
   "execution_count": 165,
   "id": "1e9388cd",
   "metadata": {},
   "outputs": [
    {
     "data": {
      "image/png": "[encoded data removed]",
      "text/plain": [
       "<Figure size 576x360 with 1 Axes>"
      ]
     },
     "metadata": {
      "needs_background": "light"
     },
     "output_type": "display_data"
    }
   ],
   "source": [
    "ki = np.linspace(4,8,5)\n",
    "angle = np.arange(3,20,1)\n",
    "angle = np.deg2rad(angle)\n",
    "plt.figure(figsize=[8,5])\n",
    "mr = [\"*\", \"^\", \"x\", \"d\", \"o\"]\n",
    "for i in range(len(ki)):\n",
    "    min_ant_area=ki[i]*lamda*vs*R*np.tan(angle)/c\n",
    "    plt.plot(np.rad2deg(angle),min_ant_area, marker = mr[i])    \n",
    "ki = ki.astype(str)\n",
    "for i in range(len(ki)):\n",
    "    ki[i] = f\"k = {ki[i]}\"\n",
    "plt.xlabel(\"viewing angle\")\n",
    "plt.ylabel(\"minimum antenna area\")\n",
    "plt.grid(True)\n",
    "plt.legend((ki.tolist()), loc = \"best\")\n",
    "plt.show()"
   ]
  },
  {
   "cell_type": "code",
   "execution_count": 166,
   "id": "11884edf",
   "metadata": {},
   "outputs": [],
   "source": [
    "pri = 6.5e-04 # pulse repetition interval(s)\n",
    "prf = 1/pri # pulse repetition frequency (Hz)\n",
    "duty_cycle = 0.10 # duty cycle of transmitted signal (10 %)\n",
    "Tp = duty_cycle*pri # pulse width (s) # pulse time\n",
    "tpt = 0.01*Tp # protection time (1% of Pulse width)"
   ]
  },
  {
   "cell_type": "code",
   "execution_count": 167,
   "id": "7e0cfa82",
   "metadata": {},
   "outputs": [
    {
     "name": "stdout",
     "output_type": "stream",
     "text": [
      "Ts = 0.055 ms\n",
      "Tf = 0.387 ms\n",
      "Tx = 0.268 ms\n"
     ]
    }
   ],
   "source": [
    "Ts = 2*Rn/c # start time of recieving window\n",
    "Tf = 2*Rf/c + Tp # end time of recieving window\n",
    "Tx = 4*Xo/c # Range swath echo time \n",
    "print(\"Ts = %.3f\" %(Ts*1000), \"ms\")\n",
    "print(\"Tf = %.3f\" %(Tf*1000), \"ms\")\n",
    "print(\"Tx = %.3f\" %(Tx*1000), \"ms\")"
   ]
  },
  {
   "cell_type": "code",
   "execution_count": 168,
   "id": "61ef736f",
   "metadata": {},
   "outputs": [
    {
     "name": "stdout",
     "output_type": "stream",
     "text": [
      "19332877868244.879 33300882128.052\n"
     ]
    }
   ],
   "source": [
    "alpha = wo/Tp # chirp rate\n",
    "beta = wc-alpha*Tp # modified chirp carrier\n",
    "print(\"%0.3f\"% alpha, \"%0.3f\"% beta)\n"
   ]
  },
  {
   "cell_type": "code",
   "execution_count": 169,
   "id": "97703ea7",
   "metadata": {},
   "outputs": [
    {
     "name": "stdout",
     "output_type": "stream",
     "text": [
      "Average Power = 150.0 W\n",
      "Antenna Gain = 17.519 dB\n",
      "Path Loss = -318.623 dB\n",
      "Noise Power = -120.81970 dB\n",
      "Receiver Sensitivity = -170 dB\n",
      "SNR = 5.99682 dB\n",
      "NE sigma 0 = -5.99682 dB\n"
     ]
    }
   ],
   "source": [
    "Peak_Power = 1.5e3 # watt\n",
    "avg_power = (duty_cycle)*Peak_Power # watt\n",
    "noise_bw = bw\n",
    "norm_bsc = -17 # normalized backscattering constant (db)\n",
    "noise_temp = 300 # in kelvin\n",
    "antenna_gain = 10*np.log10((La*Lr)/(thetaR*thetaA)) # antenna gain (db)\n",
    "image_pross_loss = 3 # system Loss (db)\n",
    "noise_factor = 3 # noise factor (db)\n",
    "path_loss = (20*np.log10(R/1e03)+20*np.log10(fc/1e06)+32.44)*2\n",
    "\n",
    "# Noise and SNR\n",
    "noise_power = mag2db(kb*noise_temp*noise_bw) # noise_bw is noise equivalent bandwidth in Hz\n",
    "\n",
    "rec_sensitivity = -170 # recevier sensitivity (dB)\n",
    "\n",
    "snr = (mag2db(avg_power)+(antenna_gain*2))-(\n",
    "    image_pross_loss+noise_factor+path_loss+noise_power)+norm_bsc - rec_sensitivity # signal to noise ratio\n",
    "\n",
    "nesz = -1*snr # noise equi. sigma not,  average backscattering coefficient at SNR = 0 dB\n",
    "\n",
    "print(\"Average Power = %0.1f\"% avg_power, \"W\")\n",
    "print(\"Antenna Gain = %0.3f\"% antenna_gain, \"dB\")\n",
    "print(\"Path Loss = %0.3f\"% (-1*path_loss), \"dB\")\n",
    "print(\"Noise Power = %0.5f\"% noise_power, \"dB\")\n",
    "print(\"Receiver Sensitivity =\", rec_sensitivity, \"dB\")\n",
    "print(\"SNR = %0.5f\"% snr, \"dB\")\n",
    "print(\"NE sigma 0 = %0.5f\"% nesz, \"dB\")"
   ]
  },
  {
   "cell_type": "code",
   "execution_count": 170,
   "id": "b555d1aa",
   "metadata": {},
   "outputs": [
    {
     "data": {
      "text/plain": [
       "True"
      ]
     },
     "execution_count": 170,
     "metadata": {},
     "output_type": "execute_result"
    }
   ],
   "source": [
    "range_amb(Rn, Rf, pri)\n",
    "azi_amb(pri, swath, theta, vs, La)"
   ]
  },
  {
   "cell_type": "code",
   "execution_count": 171,
   "id": "afbf2290",
   "metadata": {
    "scrolled": true
   },
   "outputs": [
    {
     "data": {
      "text/plain": [
       "True"
      ]
     },
     "execution_count": 171,
     "metadata": {},
     "output_type": "execute_result"
    }
   ],
   "source": [
    "azi_amb(pri, swath, theta, vs, La)"
   ]
  },
  {
   "cell_type": "code",
   "execution_count": 172,
   "id": "1a5fbae3",
   "metadata": {},
   "outputs": [
    {
     "data": {
      "text/plain": [
       "True"
      ]
     },
     "execution_count": 172,
     "metadata": {},
     "output_type": "execute_result"
    }
   ],
   "source": [
    "antenna_H(R, prf, lamda, Rn, theta)"
   ]
  }
 ],
 "metadata": {
  "kernelspec": {
   "display_name": "Python 3 (ipykernel)",
   "language": "python",
   "name": "python3"
  },
  "language_info": {
   "codemirror_mode": {
    "name": "ipython",
    "version": 3
   },
   "file_extension": ".py",
   "mimetype": "text/x-python",
   "name": "python",
   "nbconvert_exporter": "python",
   "pygments_lexer": "ipython3",
   "version": "3.9.7"
  }
 },
 "nbformat": 4,
 "nbformat_minor": 5
}
